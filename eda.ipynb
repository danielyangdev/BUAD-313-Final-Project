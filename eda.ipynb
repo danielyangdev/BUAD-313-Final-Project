{
 "cells": [
  {
   "cell_type": "markdown",
   "metadata": {},
   "source": [
    "### Tag and Genre Exploration\n",
    "Goal: find top 10 tags that matter to define artists"
   ]
  },
  {
   "cell_type": "code",
   "execution_count": 97,
   "metadata": {},
   "outputs": [],
   "source": [
    "import pandas as pd\n",
    "import numpy as np"
   ]
  },
  {
   "cell_type": "code",
   "execution_count": 98,
   "metadata": {},
   "outputs": [
    {
     "name": "stderr",
     "output_type": "stream",
     "text": [
      "/var/folders/vh/hr9y9xbx3tv6jypl81p3lxk80000gn/T/ipykernel_55354/4081141395.py:1: DtypeWarning: Columns (2,4,6) have mixed types. Specify dtype option on import or set low_memory=False.\n",
      "  df = pd.read_csv('artists.csv')\n"
     ]
    }
   ],
   "source": [
    "df = pd.read_csv('artists.csv')"
   ]
  },
  {
   "cell_type": "code",
   "execution_count": 99,
   "metadata": {},
   "outputs": [
    {
     "name": "stdout",
     "output_type": "stream",
     "text": [
      "Number of None values in tag column: 15\n",
      "Total number of unique tags: 67\n",
      "Top 10 most common tags:\n"
     ]
    },
    {
     "data": {
      "text/html": [
       "<div>\n",
       "<style scoped>\n",
       "    .dataframe tbody tr th:only-of-type {\n",
       "        vertical-align: middle;\n",
       "    }\n",
       "\n",
       "    .dataframe tbody tr th {\n",
       "        vertical-align: top;\n",
       "    }\n",
       "\n",
       "    .dataframe thead th {\n",
       "        text-align: right;\n",
       "    }\n",
       "</style>\n",
       "<table border=\"1\" class=\"dataframe\">\n",
       "  <thead>\n",
       "    <tr style=\"text-align: right;\">\n",
       "      <th></th>\n",
       "      <th>tag</th>\n",
       "      <th>count</th>\n",
       "    </tr>\n",
       "  </thead>\n",
       "  <tbody>\n",
       "    <tr>\n",
       "      <th>0</th>\n",
       "      <td>jazz</td>\n",
       "      <td>14629</td>\n",
       "    </tr>\n",
       "    <tr>\n",
       "      <th>1</th>\n",
       "      <td>punk</td>\n",
       "      <td>7911</td>\n",
       "    </tr>\n",
       "    <tr>\n",
       "      <th>4</th>\n",
       "      <td>classical</td>\n",
       "      <td>4315</td>\n",
       "    </tr>\n",
       "    <tr>\n",
       "      <th>6</th>\n",
       "      <td>hip hop</td>\n",
       "      <td>4020</td>\n",
       "    </tr>\n",
       "    <tr>\n",
       "      <th>9</th>\n",
       "      <td>pop</td>\n",
       "      <td>3137</td>\n",
       "    </tr>\n",
       "    <tr>\n",
       "      <th>12</th>\n",
       "      <td>folk</td>\n",
       "      <td>2779</td>\n",
       "    </tr>\n",
       "    <tr>\n",
       "      <th>13</th>\n",
       "      <td>electronic</td>\n",
       "      <td>2667</td>\n",
       "    </tr>\n",
       "    <tr>\n",
       "      <th>17</th>\n",
       "      <td>metal</td>\n",
       "      <td>2149</td>\n",
       "    </tr>\n",
       "    <tr>\n",
       "      <th>18</th>\n",
       "      <td>soul</td>\n",
       "      <td>1756</td>\n",
       "    </tr>\n",
       "    <tr>\n",
       "      <th>20</th>\n",
       "      <td>alternative</td>\n",
       "      <td>1589</td>\n",
       "    </tr>\n",
       "  </tbody>\n",
       "</table>\n",
       "</div>"
      ],
      "text/plain": [
       "            tag  count\n",
       "0          jazz  14629\n",
       "1          punk   7911\n",
       "4     classical   4315\n",
       "6       hip hop   4020\n",
       "9           pop   3137\n",
       "12         folk   2779\n",
       "13   electronic   2667\n",
       "17        metal   2149\n",
       "18         soul   1756\n",
       "20  alternative   1589"
      ]
     },
     "execution_count": 99,
     "metadata": {},
     "output_type": "execute_result"
    }
   ],
   "source": [
    "# Extract all tags from the tags_mb column and count occurrences\n",
    "from collections import Counter\n",
    "\n",
    "all_tags = []\n",
    "for tags_str in df[\"tags_mb\"].dropna():\n",
    "    # Split the tags string by semicolon and strip whitespace\n",
    "    tags = [tag.strip() for tag in tags_str.split(';')]\n",
    "    all_tags.extend(tags)\n",
    "\n",
    "# Count tag occurrences\n",
    "tag_counts = Counter(all_tags)\n",
    "# Convert the Counter to a DataFrame\n",
    "tag_counts_df = pd.DataFrame(tag_counts.items(), columns=['tag', 'count'])\n",
    "tag_counts_df = tag_counts_df.sort_values('count', ascending=False).reset_index(drop=True)\n",
    "# remove tags with count < 500\n",
    "tag_counts_df = tag_counts_df[tag_counts_df['count'] >= 500]\n",
    "# make all tags that contain \"rock\" to be \"rock\"\n",
    "tag_counts_df[\"tag\"] = tag_counts_df[\"tag\"].apply(lambda x: \"rock\" if \"rock\" in str(x) else str(x))\n",
    "# combine row of all tags that are \"rock\" and their count\n",
    "rock_count = tag_counts_df[tag_counts_df[\"tag\"] == \"rock\"][\"count\"].sum()\n",
    "tag_counts_df = tag_counts_df[tag_counts_df[\"tag\"] != \"rock\"]\n",
    "tag_counts_df = pd.concat([tag_counts_df, pd.DataFrame({\"tag\": [\"rock\"], \"count\": [rock_count]})], ignore_index=True)\n",
    "\n",
    "# remove musician, cmoposer, usa, england, british, latvian, likedis auto, uk\n",
    "to_remove = [\"musician\", \"composer\", \"usa\", \"england\", \"british\", \"latvian\", \"likedis auto\", \"uk\", \"music\", \"japanese\", \"german\", \"french\", \"american\", \"english\", \"latin\", \"production music\"]\n",
    "tag_counts_df[\"tag\"] = tag_counts_df[\"tag\"].apply(lambda x: None if str(x) in to_remove else str(x))\n",
    "# Count the number of None values in the tag column\n",
    "none_count = tag_counts_df[\"tag\"].isna().sum()\n",
    "print(f\"Number of None values in tag column: {none_count}\")\n",
    "\n",
    "# remove None values\n",
    "tag_counts_df = tag_counts_df[tag_counts_df[\"tag\"].notna()]\n",
    "\n",
    "# Get unique tags and sort them by frequency (most common first)\n",
    "unique_tags = sorted(tag_counts_df[\"tag\"].keys())\n",
    "most_common_tags = tag_counts_df.head(10)\n",
    "\n",
    "print(f\"Total number of unique tags: {len(unique_tags)}\")\n",
    "print(\"Top 10 most common tags:\")\n",
    "most_common_tags"
   ]
  },
  {
   "cell_type": "code",
   "execution_count": 100,
   "metadata": {},
   "outputs": [
    {
     "name": "stdout",
     "output_type": "stream",
     "text": [
      "Total count for tags containing 'jazz': 14629\n",
      "Total count for tags containing 'punk': 8512\n",
      "Total count for tags containing 'classical': 4315\n",
      "Total count for tags containing 'hip hop': 4020\n",
      "Total count for tags containing 'pop': 3137\n",
      "Total count for tags containing 'folk': 2779\n",
      "Total count for tags containing 'electronic': 3293\n",
      "Total count for tags containing 'metal': 6320\n",
      "Total count for tags containing 'soul': 1756\n",
      "Total count for tags containing 'alternative': 1589\n"
     ]
    },
    {
     "data": {
      "text/plain": [
       "{'jazz': 14629,\n",
       " 'punk': 8512,\n",
       " 'classical': 4315,\n",
       " 'hip hop': 4020,\n",
       " 'pop': 3137,\n",
       " 'folk': 2779,\n",
       " 'electronic': 3293,\n",
       " 'metal': 6320,\n",
       " 'soul': 1756,\n",
       " 'alternative': 1589}"
      ]
     },
     "execution_count": 100,
     "metadata": {},
     "output_type": "execute_result"
    }
   ],
   "source": [
    "# most_common_tags\n",
    "# Store tags that contain each of the most common tags and sum their counts\n",
    "tag_containing_dict = {}\n",
    "for tag in most_common_tags[\"tag\"]:\n",
    "    # look for tags that contain that tag\n",
    "    containing_tags = tag_counts_df[tag_counts_df[\"tag\"].str.contains(tag)]\n",
    "    # Sum up the counts for all tags containing this tag\n",
    "    total_count = containing_tags[\"count\"].sum()\n",
    "    print(f\"Total count for tags containing '{tag}': {total_count}\")\n",
    "    tag_containing_dict[tag] = total_count\n",
    "\n",
    "tag_containing_dict"
   ]
  },
  {
   "cell_type": "code",
   "execution_count": 101,
   "metadata": {},
   "outputs": [
    {
     "name": "stderr",
     "output_type": "stream",
     "text": [
      "/var/folders/vh/hr9y9xbx3tv6jypl81p3lxk80000gn/T/ipykernel_55354/207865198.py:1: DtypeWarning: Columns (2,4,6) have mixed types. Specify dtype option on import or set low_memory=False.\n",
      "  df = pd.read_csv('artists.csv')\n"
     ]
    },
    {
     "data": {
      "text/html": [
       "<div>\n",
       "<style scoped>\n",
       "    .dataframe tbody tr th:only-of-type {\n",
       "        vertical-align: middle;\n",
       "    }\n",
       "\n",
       "    .dataframe tbody tr th {\n",
       "        vertical-align: top;\n",
       "    }\n",
       "\n",
       "    .dataframe thead th {\n",
       "        text-align: right;\n",
       "    }\n",
       "</style>\n",
       "<table border=\"1\" class=\"dataframe\">\n",
       "  <thead>\n",
       "    <tr style=\"text-align: right;\">\n",
       "      <th></th>\n",
       "      <th>mbid</th>\n",
       "      <th>artist_mb</th>\n",
       "      <th>artist_lastfm</th>\n",
       "      <th>country_mb</th>\n",
       "      <th>country_lastfm</th>\n",
       "      <th>tags_mb</th>\n",
       "      <th>tags_lastfm</th>\n",
       "      <th>listeners_lastfm</th>\n",
       "      <th>scrobbles_lastfm</th>\n",
       "      <th>ambiguous_artist</th>\n",
       "    </tr>\n",
       "  </thead>\n",
       "  <tbody>\n",
       "    <tr>\n",
       "      <th>0</th>\n",
       "      <td>cc197bad-dc9c-440d-a5b5-d52ba2e14234</td>\n",
       "      <td>Coldplay</td>\n",
       "      <td>Coldplay</td>\n",
       "      <td>United Kingdom</td>\n",
       "      <td>United Kingdom</td>\n",
       "      <td>rock; pop; alternative rock; british; uk; brit...</td>\n",
       "      <td>rock; alternative; britpop; alternative rock; ...</td>\n",
       "      <td>5381567.0</td>\n",
       "      <td>360111850.0</td>\n",
       "      <td>False</td>\n",
       "    </tr>\n",
       "    <tr>\n",
       "      <th>1</th>\n",
       "      <td>a74b1b7f-71a5-4011-9441-d0b5e4122711</td>\n",
       "      <td>Radiohead</td>\n",
       "      <td>Radiohead</td>\n",
       "      <td>United Kingdom</td>\n",
       "      <td>United Kingdom</td>\n",
       "      <td>rock; electronic; alternative rock; british; g...</td>\n",
       "      <td>alternative; alternative rock; rock; indie; el...</td>\n",
       "      <td>4732528.0</td>\n",
       "      <td>499548797.0</td>\n",
       "      <td>False</td>\n",
       "    </tr>\n",
       "    <tr>\n",
       "      <th>2</th>\n",
       "      <td>8bfac288-ccc5-448d-9573-c33ea2aa5c30</td>\n",
       "      <td>Red Hot Chili Peppers</td>\n",
       "      <td>Red Hot Chili Peppers</td>\n",
       "      <td>United States</td>\n",
       "      <td>United States</td>\n",
       "      <td>rock; alternative rock; 80s; 90s; rap; metal; ...</td>\n",
       "      <td>rock; alternative rock; alternative; Funk Rock...</td>\n",
       "      <td>4620835.0</td>\n",
       "      <td>293784041.0</td>\n",
       "      <td>False</td>\n",
       "    </tr>\n",
       "    <tr>\n",
       "      <th>3</th>\n",
       "      <td>73e5e69d-3554-40d8-8516-00cb38737a1c</td>\n",
       "      <td>Rihanna</td>\n",
       "      <td>Rihanna</td>\n",
       "      <td>United States</td>\n",
       "      <td>Barbados; United States</td>\n",
       "      <td>pop; dance; hip hop; reggae; contemporary r b;...</td>\n",
       "      <td>pop; rnb; female vocalists; dance; Hip-Hop; Ri...</td>\n",
       "      <td>4558193.0</td>\n",
       "      <td>199248986.0</td>\n",
       "      <td>False</td>\n",
       "    </tr>\n",
       "    <tr>\n",
       "      <th>4</th>\n",
       "      <td>b95ce3ff-3d05-4e87-9e01-c97b66af13d4</td>\n",
       "      <td>Eminem</td>\n",
       "      <td>Eminem</td>\n",
       "      <td>United States</td>\n",
       "      <td>United States</td>\n",
       "      <td>turkish; rap; american; hip-hop; hip hop; hiph...</td>\n",
       "      <td>rap; Hip-Hop; Eminem; hip hop; pop; american; ...</td>\n",
       "      <td>4517997.0</td>\n",
       "      <td>199507511.0</td>\n",
       "      <td>False</td>\n",
       "    </tr>\n",
       "    <tr>\n",
       "      <th>...</th>\n",
       "      <td>...</td>\n",
       "      <td>...</td>\n",
       "      <td>...</td>\n",
       "      <td>...</td>\n",
       "      <td>...</td>\n",
       "      <td>...</td>\n",
       "      <td>...</td>\n",
       "      <td>...</td>\n",
       "      <td>...</td>\n",
       "      <td>...</td>\n",
       "    </tr>\n",
       "    <tr>\n",
       "      <th>1466078</th>\n",
       "      <td>1eab523e-98ff-4083-aa34-8922740bc696</td>\n",
       "      <td>정은지</td>\n",
       "      <td>NaN</td>\n",
       "      <td>South Korea</td>\n",
       "      <td>South Korea</td>\n",
       "      <td>NaN</td>\n",
       "      <td>NaN</td>\n",
       "      <td>NaN</td>\n",
       "      <td>NaN</td>\n",
       "      <td>False</td>\n",
       "    </tr>\n",
       "    <tr>\n",
       "      <th>1466079</th>\n",
       "      <td>a18f0527-907e-42b0-8268-504966274581</td>\n",
       "      <td>남태현</td>\n",
       "      <td>NaN</td>\n",
       "      <td>South Korea</td>\n",
       "      <td>NaN</td>\n",
       "      <td>NaN</td>\n",
       "      <td>NaN</td>\n",
       "      <td>NaN</td>\n",
       "      <td>NaN</td>\n",
       "      <td>False</td>\n",
       "    </tr>\n",
       "    <tr>\n",
       "      <th>1466080</th>\n",
       "      <td>20a57e37-24b5-4301-855b-35076580fb88</td>\n",
       "      <td>헤일로</td>\n",
       "      <td>NaN</td>\n",
       "      <td>South Korea</td>\n",
       "      <td>NaN</td>\n",
       "      <td>NaN</td>\n",
       "      <td>NaN</td>\n",
       "      <td>NaN</td>\n",
       "      <td>NaN</td>\n",
       "      <td>False</td>\n",
       "    </tr>\n",
       "    <tr>\n",
       "      <th>1466081</th>\n",
       "      <td>83891a4d-1bf4-4abe-a483-5b3d9d614efa</td>\n",
       "      <td>서현진</td>\n",
       "      <td>NaN</td>\n",
       "      <td>South Korea</td>\n",
       "      <td>South Korea</td>\n",
       "      <td>NaN</td>\n",
       "      <td>NaN</td>\n",
       "      <td>NaN</td>\n",
       "      <td>NaN</td>\n",
       "      <td>False</td>\n",
       "    </tr>\n",
       "    <tr>\n",
       "      <th>1466082</th>\n",
       "      <td>3d05dd13-f524-4e80-91aa-24094e8b5928</td>\n",
       "      <td>김희철</td>\n",
       "      <td>NaN</td>\n",
       "      <td>South Korea</td>\n",
       "      <td>South Korea</td>\n",
       "      <td>NaN</td>\n",
       "      <td>NaN</td>\n",
       "      <td>NaN</td>\n",
       "      <td>NaN</td>\n",
       "      <td>False</td>\n",
       "    </tr>\n",
       "  </tbody>\n",
       "</table>\n",
       "<p>1466083 rows × 10 columns</p>\n",
       "</div>"
      ],
      "text/plain": [
       "                                         mbid              artist_mb  \\\n",
       "0        cc197bad-dc9c-440d-a5b5-d52ba2e14234               Coldplay   \n",
       "1        a74b1b7f-71a5-4011-9441-d0b5e4122711              Radiohead   \n",
       "2        8bfac288-ccc5-448d-9573-c33ea2aa5c30  Red Hot Chili Peppers   \n",
       "3        73e5e69d-3554-40d8-8516-00cb38737a1c                Rihanna   \n",
       "4        b95ce3ff-3d05-4e87-9e01-c97b66af13d4                 Eminem   \n",
       "...                                       ...                    ...   \n",
       "1466078  1eab523e-98ff-4083-aa34-8922740bc696                    정은지   \n",
       "1466079  a18f0527-907e-42b0-8268-504966274581                    남태현   \n",
       "1466080  20a57e37-24b5-4301-855b-35076580fb88                    헤일로   \n",
       "1466081  83891a4d-1bf4-4abe-a483-5b3d9d614efa                    서현진   \n",
       "1466082  3d05dd13-f524-4e80-91aa-24094e8b5928                    김희철   \n",
       "\n",
       "                 artist_lastfm      country_mb           country_lastfm  \\\n",
       "0                     Coldplay  United Kingdom           United Kingdom   \n",
       "1                    Radiohead  United Kingdom           United Kingdom   \n",
       "2        Red Hot Chili Peppers   United States            United States   \n",
       "3                      Rihanna   United States  Barbados; United States   \n",
       "4                       Eminem   United States            United States   \n",
       "...                        ...             ...                      ...   \n",
       "1466078                    NaN     South Korea              South Korea   \n",
       "1466079                    NaN     South Korea                      NaN   \n",
       "1466080                    NaN     South Korea                      NaN   \n",
       "1466081                    NaN     South Korea              South Korea   \n",
       "1466082                    NaN     South Korea              South Korea   \n",
       "\n",
       "                                                   tags_mb  \\\n",
       "0        rock; pop; alternative rock; british; uk; brit...   \n",
       "1        rock; electronic; alternative rock; british; g...   \n",
       "2        rock; alternative rock; 80s; 90s; rap; metal; ...   \n",
       "3        pop; dance; hip hop; reggae; contemporary r b;...   \n",
       "4        turkish; rap; american; hip-hop; hip hop; hiph...   \n",
       "...                                                    ...   \n",
       "1466078                                                NaN   \n",
       "1466079                                                NaN   \n",
       "1466080                                                NaN   \n",
       "1466081                                                NaN   \n",
       "1466082                                                NaN   \n",
       "\n",
       "                                               tags_lastfm  listeners_lastfm  \\\n",
       "0        rock; alternative; britpop; alternative rock; ...         5381567.0   \n",
       "1        alternative; alternative rock; rock; indie; el...         4732528.0   \n",
       "2        rock; alternative rock; alternative; Funk Rock...         4620835.0   \n",
       "3        pop; rnb; female vocalists; dance; Hip-Hop; Ri...         4558193.0   \n",
       "4        rap; Hip-Hop; Eminem; hip hop; pop; american; ...         4517997.0   \n",
       "...                                                    ...               ...   \n",
       "1466078                                                NaN               NaN   \n",
       "1466079                                                NaN               NaN   \n",
       "1466080                                                NaN               NaN   \n",
       "1466081                                                NaN               NaN   \n",
       "1466082                                                NaN               NaN   \n",
       "\n",
       "         scrobbles_lastfm  ambiguous_artist  \n",
       "0             360111850.0             False  \n",
       "1             499548797.0             False  \n",
       "2             293784041.0             False  \n",
       "3             199248986.0             False  \n",
       "4             199507511.0             False  \n",
       "...                   ...               ...  \n",
       "1466078               NaN             False  \n",
       "1466079               NaN             False  \n",
       "1466080               NaN             False  \n",
       "1466081               NaN             False  \n",
       "1466082               NaN             False  \n",
       "\n",
       "[1466083 rows x 10 columns]"
      ]
     },
     "execution_count": 101,
     "metadata": {},
     "output_type": "execute_result"
    }
   ],
   "source": [
    "df = pd.read_csv('artists.csv')\n",
    "df"
   ]
  },
  {
   "cell_type": "code",
   "execution_count": 102,
   "metadata": {},
   "outputs": [],
   "source": [
    "# Create a new column 'tags' to store the most common tags found for each artist\n",
    "df['tags'] = None\n",
    "\n",
    "# Convert tags columns to string to avoid issues with NaN values\n",
    "df['tags_mb'] = df['tags_mb'].astype(str)\n",
    "df['tags_lastfm'] = df['tags_lastfm'].astype(str)\n",
    "\n",
    "# Create a list of the most common tags\n",
    "common_tags = most_common_tags[\"tag\"].tolist()"
   ]
  },
  {
   "cell_type": "code",
   "execution_count": 103,
   "metadata": {},
   "outputs": [
    {
     "name": "stdout",
     "output_type": "stream",
     "text": [
      "Sample of artists with their tags:\n",
      "               artist_mb                                           tags\n",
      "0               Coldplay                 [pop, electronic, alternative]\n",
      "1              Radiohead                 [pop, electronic, alternative]\n",
      "2  Red Hot Chili Peppers                [punk, pop, metal, alternative]\n",
      "3                Rihanna  [hip hop, pop, electronic, soul, alternative]\n",
      "4                 Eminem                    [hip hop, pop, alternative]\n",
      "5            The Killers                       [punk, pop, alternative]\n",
      "6             Kanye West  [hip hop, pop, electronic, soul, alternative]\n",
      "7                Nirvana                     [punk, metal, alternative]\n",
      "8                   Muse          [pop, electronic, metal, alternative]\n",
      "9                  Queen                      [pop, metal, alternative]\n"
     ]
    }
   ],
   "source": [
    "# Function to find matching tags and return them as a list\n",
    "def find_matching_tags(tags_mb, tags_lastfm, common_tags_list):\n",
    "    matching_tags = []\n",
    "    for tag in common_tags_list:\n",
    "        if tag in tags_mb or tag in tags_lastfm:\n",
    "            matching_tags.append(tag)\n",
    "    return matching_tags if matching_tags else None\n",
    "\n",
    "# Apply the function to create the new tags column\n",
    "df['tags'] = df.apply(lambda row: find_matching_tags(row['tags_mb'], row['tags_lastfm'], common_tags), axis=1)\n",
    "\n",
    "# Clean up tags_mb as before\n",
    "df[\"tags_mb\"] = df[\"tags_mb\"].apply(lambda x: None if str(x) in to_remove else str(x))\n",
    "\n",
    "# Display the first few rows to verify the new column\n",
    "print(\"Sample of artists with their tags:\")\n",
    "print(df[['artist_mb', 'tags']].head(10))"
   ]
  },
  {
   "cell_type": "code",
   "execution_count": 104,
   "metadata": {},
   "outputs": [],
   "source": [
    "df.to_csv(\"artists_with_genres.csv\", index=False)"
   ]
  },
  {
   "cell_type": "markdown",
   "metadata": {},
   "source": [
    "------------------------------------------------------------------------------\n",
    "### Scrobbles Exploration\n",
    "Goal: find a cutoff for scrobbles to define \"popular artists\" data"
   ]
  },
  {
   "cell_type": "code",
   "execution_count": 105,
   "metadata": {},
   "outputs": [
    {
     "data": {
      "image/png": "[encoded data removed]",
      "text/plain": [
       "<Figure size 1200x600 with 1 Axes>"
      ]
     },
     "metadata": {},
     "output_type": "display_data"
    },
    {
     "name": "stdout",
     "output_type": "stream",
     "text": [
      "Detailed statistics of artist popularity (scrobbles on Last.fm):\n",
      "count    9.867600e+05\n",
      "mean     1.219395e+05\n",
      "std      2.314559e+06\n",
      "min      0.000000e+00\n",
      "25%      4.600000e+01\n",
      "50%      5.900000e+02\n",
      "75%      6.028000e+03\n",
      "max      5.171263e+08\n",
      "Name: scrobbles_lastfm, dtype: float64\n",
      "\n",
      "Additional insights:\n",
      "Number of artists with >1M scrobbles: 14326\n",
      "Number of artists with <100 scrobbles: 311273\n",
      "Skewness: 76.77266020613814\n",
      "\n",
      "Top 5 most popular artists by scrobbles:\n",
      "         artist_mb  scrobbles_lastfm\n",
      "17     The Beatles       517126254.0\n",
      "1        Radiohead       499548797.0\n",
      "0         Coldplay       360111850.0\n",
      "8             Muse       344838631.0\n",
      "23  Arctic Monkeys       332306552.0\n"
     ]
    }
   ],
   "source": [
    "import matplotlib.pyplot as plt\n",
    "import numpy as np\n",
    "\n",
    "# Create a histogram of scrobbles_lastfm to visualize the distribution of artist popularity\n",
    "plt.figure(figsize=(12, 6))\n",
    "plt.hist(df[\"scrobbles_lastfm\"].dropna(), bins=50, log=True, color='skyblue', edgecolor='black')\n",
    "plt.title('Distribution of Artist Popularity by Last.fm Scrobbles (log scale)', fontsize=14)\n",
    "plt.xlabel('Number of Scrobbles (plays by Last.fm users, in millions)', fontsize=12)\n",
    "plt.ylabel('Number of Artists (log scale)', fontsize=12)\n",
    "plt.grid(True, alpha=0.3)\n",
    "\n",
    "# Add some annotations to highlight the skewed distribution\n",
    "median_scrobbles = df[\"scrobbles_lastfm\"].median()\n",
    "mean_scrobbles = df[\"scrobbles_lastfm\"].mean()\n",
    "plt.axvline(median_scrobbles, color='red', linestyle='--', label=f'Median: {median_scrobbles:.0f}')\n",
    "plt.axvline(mean_scrobbles, color='green', linestyle='--', label=f'Mean: {mean_scrobbles:.0f}')\n",
    "plt.legend()\n",
    "\n",
    "# Add text explaining the distribution\n",
    "plt.figtext(0.15, 0.85, \"The distribution shows a long-tail pattern typical of popularity metrics,\\n\"\n",
    "                        \"with few extremely popular artists and many less-known ones.\", \n",
    "            bbox=dict(facecolor='white', alpha=0.8))\n",
    "\n",
    "plt.show()\n",
    "\n",
    "# Calculate and display comprehensive statistics about artist popularity\n",
    "print(\"Detailed statistics of artist popularity (scrobbles on Last.fm):\")\n",
    "stats = df[\"scrobbles_lastfm\"].describe()\n",
    "print(stats)\n",
    "\n",
    "# Additional insights\n",
    "print(\"\\nAdditional insights:\")\n",
    "print(f\"Number of artists with >1M scrobbles: {len(df[df['scrobbles_lastfm'] > 1000000])}\")\n",
    "print(f\"Number of artists with <100 scrobbles: {len(df[df['scrobbles_lastfm'] < 100])}\")\n",
    "print(f\"Skewness: {df['scrobbles_lastfm'].skew()}\")  # Measure of distribution asymmetry\n",
    "\n",
    "# Show top 5 most popular artists\n",
    "print(\"\\nTop 5 most popular artists by scrobbles:\")\n",
    "top_artists = df.sort_values('scrobbles_lastfm', ascending=False)[['artist_mb', 'scrobbles_lastfm']].head(5)\n",
    "print(top_artists)"
   ]
  },
  {
   "cell_type": "code",
   "execution_count": 106,
   "metadata": {},
   "outputs": [
    {
     "name": "stdout",
     "output_type": "stream",
     "text": [
      "Number of artists with more than 50 million scrobbles: 297\n",
      "\n",
      "Top artists with more than 50 million scrobbles:\n",
      "                 artist_mb  scrobbles_lastfm\n",
      "937               Mastodon        50230298.0\n",
      "708        City and Colour        50364751.0\n",
      "337  Johann Sebastian Bach        50370162.0\n",
      "575                   Rush        50497090.0\n",
      "472     Taking Back Sunday        50537271.0\n",
      "..                     ...               ...\n",
      "23          Arctic Monkeys       332306552.0\n",
      "8                     Muse       344838631.0\n",
      "0                 Coldplay       360111850.0\n",
      "1                Radiohead       499548797.0\n",
      "17             The Beatles       517126254.0\n",
      "\n",
      "[297 rows x 2 columns]\n"
     ]
    }
   ],
   "source": [
    "# Filter artists with more than 5 million scrobbles\n",
    "popular_artists = df[df['scrobbles_lastfm'] > 50_000_000].sort_values('scrobbles_lastfm', ascending=False)\n",
    "4\n",
    "# Display the number of artists with more than 5 million scrobbles\n",
    "print(f\"Number of artists with more than 50 million scrobbles: {len(popular_artists)}\")\n",
    "\n",
    "# Show the top artists with more than 5 million scrobbles\n",
    "print(\"\\nTop artists with more than 50 million scrobbles:\")\n",
    "print(popular_artists[['artist_mb', 'scrobbles_lastfm']].sort_values('scrobbles_lastfm', ascending=True))"
   ]
  },
  {
   "cell_type": "markdown",
   "metadata": {},
   "source": [
    "------------------------------------------------------------------------------\n",
    "### Normalizing \n",
    "Goal: find a cutoff for scrobbles to define \"popular artists\" data"
   ]
  },
  {
   "cell_type": "code",
   "execution_count": 116,
   "metadata": {},
   "outputs": [],
   "source": [
    "songs = pd.read_csv('songs_with_predictions_small.csv')"
   ]
  },
  {
   "cell_type": "code",
   "execution_count": 118,
   "metadata": {},
   "outputs": [],
   "source": [
    "col_names = songs.columns.tolist()\n",
    "users =[]\n",
    "for col in col_names:\n",
    "    if \"user\" in col:\n",
    "        users.append(col)\n",
    "\n",
    "ratings = []\n",
    "for user in users:\n",
    "    ratings_for_user = songs[user]\n",
    "    for rating in ratings_for_user:\n",
    "        ratings.append(rating)\n",
    "\n",
    "ratings = [i for i in ratings]\n"
   ]
  },
  {
   "cell_type": "code",
   "execution_count": 119,
   "metadata": {},
   "outputs": [
    {
     "data": {
      "image/png": "[encoded data removed]",
      "text/plain": [
       "<Figure size 640x480 with 1 Axes>"
      ]
     },
     "metadata": {},
     "output_type": "display_data"
    },
    {
     "name": "stdout",
     "output_type": "stream",
     "text": [
      "Mean rating: -0.2502241644827694\n",
      "Median rating: 0.0\n",
      "Standard deviation of ratings: 1.1265584925428205\n",
      "Minimum rating: -4.262762151719238\n",
      "Maximum rating: 2.200905449433086\n",
      "Number of songs with rating = 0: 94500\n"
     ]
    }
   ],
   "source": [
    "# histogram of ratings\n",
    "plt.hist(ratings, bins=10, edgecolor='black')\n",
    "plt.title('Histogram of Ratings')\n",
    "plt.xlabel('Rating')\n",
    "plt.ylabel('Frequency')\n",
    "plt.show()\n",
    "\n",
    "# print descriptive statistics of ratings\n",
    "print(f\"Mean rating: {np.mean(ratings)}\")\n",
    "print(f\"Median rating: {np.median(ratings)}\")\n",
    "print(f\"Standard deviation of ratings: {np.std(ratings)}\")\n",
    "print(f\"Minimum rating: {np.min(ratings)}\")\n",
    "print(f\"Maximum rating: {np.max(ratings)}\")\n",
    "\n",
    "# find number of songs with rating = 0\n",
    "print(f\"Number of songs with rating = 0: {len([r for r in ratings if r == 0])}\")\n"
   ]
  },
  {
   "cell_type": "code",
   "execution_count": 120,
   "metadata": {},
   "outputs": [
    {
     "data": {
      "image/png": "[encoded data removed]",
      "text/plain": [
       "<Figure size 1000x600 with 1 Axes>"
      ]
     },
     "metadata": {},
     "output_type": "display_data"
    },
    {
     "name": "stdout",
     "output_type": "stream",
     "text": [
      "Mean of normalized ratings: 0.1578\n",
      "Median of normalized ratings: 0.1904\n",
      "Standard deviation of normalized ratings: 0.3581\n",
      "Minimum of normalized ratings: -1.0000\n",
      "Maximum of normalized ratings: 1.0000\n"
     ]
    }
   ],
   "source": [
    "# Normalize song ratings\n",
    "# First, let's define our normalization function\n",
    "def normalize_ratings(ratings, min_val, max_val):\n",
    "    \"\"\"\n",
    "    Normalize ratings to be between -1 and 1 using min-max normalization\n",
    "    \"\"\"\n",
    "    normalized = [0 if rating == 0 else (2 * (rating - min_val) / (max_val - min_val)) - 1 for rating in ratings]\n",
    "    return normalized\n",
    "\n",
    "# Get the statistics from our data\n",
    "min_rating = min(ratings)\n",
    "max_rating = max(ratings)\n",
    "\n",
    "# Normalize the ratings to be between -1 and 1\n",
    "normalized_ratings = normalize_ratings(ratings, min_rating, max_rating)\n",
    "\n",
    "# Create a histogram of normalized ratings\n",
    "plt.figure(figsize=(10, 6))\n",
    "plt.hist(normalized_ratings, bins=20, edgecolor='black', alpha=0.7)\n",
    "plt.title('Histogram of Normalized Ratings (-1 to 1 Scale)')\n",
    "plt.xlabel('Normalized Rating')\n",
    "plt.ylabel('Frequency')\n",
    "plt.axvline(x=-1, color='red', linestyle='--', label='Min (-1)')\n",
    "plt.axvline(x=1, color='red', linestyle='--', label='Max (1)')\n",
    "plt.axvline(x=0, color='green', linestyle='--', label='Mid-point (0)')\n",
    "plt.legend()\n",
    "plt.grid(True, alpha=0.3)\n",
    "plt.show()\n",
    "\n",
    "# Print descriptive statistics of normalized ratings\n",
    "print(f\"Mean of normalized ratings: {np.mean(normalized_ratings):.4f}\")\n",
    "print(f\"Median of normalized ratings: {np.median(normalized_ratings):.4f}\")\n",
    "print(f\"Standard deviation of normalized ratings: {np.std(normalized_ratings):.4f}\")\n",
    "print(f\"Minimum of normalized ratings: {np.min(normalized_ratings):.4f}\")\n",
    "print(f\"Maximum of normalized ratings: {np.max(normalized_ratings):.4f}\")\n"
   ]
  },
  {
   "cell_type": "code",
   "execution_count": 121,
   "metadata": {},
   "outputs": [
    {
     "name": "stdout",
     "output_type": "stream",
     "text": [
      "Number of songs with normalized rating > 0.9: 583\n",
      "Number of songs with normalized rating < -0.9: 57\n",
      "Number of songs with normalized rating = 0: 94500\n"
     ]
    }
   ],
   "source": [
    "# find number of songs with normalized rating > 0.9\n",
    "print(f\"Number of songs with normalized rating > 0.9: {len([r for r in normalized_ratings if r > 0.9])}\")\n",
    "\n",
    "# find number of songs with normalized rating < -0.9\n",
    "print(f\"Number of songs with normalized rating < -0.9: {len([r for r in normalized_ratings if r < -0.9])}\")\n",
    "\n",
    "# find number of songs with normalized rating = 0\n",
    "print(f\"Number of songs with normalized rating = 0: {len([r for r in normalized_ratings if r == 0])}\")"
   ]
  },
  {
   "cell_type": "code",
   "execution_count": 122,
   "metadata": {},
   "outputs": [],
   "source": [
    "# Normalize song ratings\n",
    "def normalize_ratings(ratings, min_val, max_val):\n",
    "    \"\"\"\n",
    "    Normalize ratings to be between -1 and 1 using min-max normalization\n",
    "    \"\"\"\n",
    "    normalized = [(2 * (rating - min_val) / (max_val - min_val)) - 1 for rating in ratings]\n",
    "    return normalized\n",
    "\n",
    "# Get the statistics from our data\n",
    "min_rating = min(ratings)\n",
    "max_rating = max(ratings)\n",
    "\n",
    "# Normalize the ratings to be between -1 and 1\n",
    "for user in users:\n",
    "    normalized_ratings = normalize_ratings(songs[user], min_rating, max_rating)\n",
    "    songs[user] = normalized_ratings"
   ]
  },
  {
   "cell_type": "code",
   "execution_count": 123,
   "metadata": {},
   "outputs": [],
   "source": [
    "songs.to_csv('songs_with_normalized_ratings.csv', index=False)"
   ]
  }
 ],
 "metadata": {
  "kernelspec": {
   "display_name": "base",
   "language": "python",
   "name": "python3"
  },
  "language_info": {
   "codemirror_mode": {
    "name": "ipython",
    "version": 3
   },
   "file_extension": ".py",
   "mimetype": "text/x-python",
   "name": "python",
   "nbconvert_exporter": "python",
   "pygments_lexer": "ipython3",
   "version": "3.12.7"
  }
 },
 "nbformat": 4,
 "nbformat_minor": 2
}
