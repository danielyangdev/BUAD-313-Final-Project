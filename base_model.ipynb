{
 "cells": [
  {
   "cell_type": "code",
   "execution_count": 7,
   "id": "55c51b6b",
   "metadata": {},
   "outputs": [
    {
     "name": "stdout",
     "output_type": "stream",
     "text": [
      "(12, 0, 0)\n"
     ]
    },
    {
     "ename": "AttributeError",
     "evalue": "type object 'gurobi' has no attribute 'licensetype'",
     "output_type": "error",
     "traceback": [
      "\u001b[0;31m---------------------------------------------------------------------------\u001b[0m",
      "\u001b[0;31mAttributeError\u001b[0m                            Traceback (most recent call last)",
      "Cell \u001b[0;32mIn[7], line 3\u001b[0m\n\u001b[1;32m      1\u001b[0m \u001b[38;5;28;01mimport\u001b[39;00m \u001b[38;5;21;01mgurobipy\u001b[39;00m \u001b[38;5;28;01mas\u001b[39;00m \u001b[38;5;21;01mgp\u001b[39;00m\n\u001b[1;32m      2\u001b[0m \u001b[38;5;28mprint\u001b[39m(gp\u001b[38;5;241m.\u001b[39mgurobi\u001b[38;5;241m.\u001b[39mversion())\n\u001b[0;32m----> 3\u001b[0m \u001b[38;5;28mprint\u001b[39m(gp\u001b[38;5;241m.\u001b[39mgurobi\u001b[38;5;241m.\u001b[39mlicensetype())\n",
      "\u001b[0;31mAttributeError\u001b[0m: type object 'gurobi' has no attribute 'licensetype'"
     ]
    }
   ],
   "source": [
    "import gurobipy as gp\n",
    "print(gp.gurobi.version())\n",
    "print(gp.gurobi.licensetype())"
   ]
  },
  {
   "cell_type": "code",
   "execution_count": null,
   "id": "b71ce053",
   "metadata": {},
   "outputs": [
    {
     "name": "stdout",
     "output_type": "stream",
     "text": [
      "Gurobi Optimizer version 12.0.0 build v12.0.0rc1 (mac64[arm] - Darwin 24.4.0 24E263)\n",
      "\n",
      "CPU model: Apple M3 Max\n",
      "Thread count: 14 physical cores, 14 logical processors, using up to 14 threads\n",
      "\n"
     ]
    },
    {
     "ename": "GurobiError",
     "evalue": "Model too large for size-limited license; visit https://gurobi.com/unrestricted for more information",
     "output_type": "error",
     "traceback": [
      "\u001b[0;31m---------------------------------------------------------------------------\u001b[0m",
      "\u001b[0;31mGurobiError\u001b[0m                               Traceback (most recent call last)",
      "Cell \u001b[0;32mIn[8], line 38\u001b[0m\n\u001b[1;32m     35\u001b[0m m\u001b[38;5;241m.\u001b[39msetObjective(quicksum(ratings[i] \u001b[38;5;241m*\u001b[39m x[i] \u001b[38;5;28;01mfor\u001b[39;00m i \u001b[38;5;129;01min\u001b[39;00m \u001b[38;5;28mrange\u001b[39m(num_tracks)), GRB\u001b[38;5;241m.\u001b[39mMAXIMIZE)\n\u001b[1;32m     37\u001b[0m \u001b[38;5;66;03m# Solve\u001b[39;00m\n\u001b[0;32m---> 38\u001b[0m m\u001b[38;5;241m.\u001b[39moptimize()\n\u001b[1;32m     40\u001b[0m \u001b[38;5;66;03m# Extract selected tracks\u001b[39;00m\n\u001b[1;32m     41\u001b[0m selected_indices \u001b[38;5;241m=\u001b[39m [i \u001b[38;5;28;01mfor\u001b[39;00m i \u001b[38;5;129;01min\u001b[39;00m \u001b[38;5;28mrange\u001b[39m(num_tracks) \u001b[38;5;28;01mif\u001b[39;00m x[i]\u001b[38;5;241m.\u001b[39mX \u001b[38;5;241m>\u001b[39m \u001b[38;5;241m0.5\u001b[39m]\n",
      "File \u001b[0;32msrc/gurobipy/_model.pyx:901\u001b[0m, in \u001b[0;36mgurobipy._model.Model.optimize\u001b[0;34m()\u001b[0m\n",
      "\u001b[0;31mGurobiError\u001b[0m: Model too large for size-limited license; visit https://gurobi.com/unrestricted for more information"
     ]
    }
   ],
   "source": [
    "import pandas as pd\n",
    "import numpy as np\n",
    "from gurobipy import Model, GRB, quicksum\n",
    "\n",
    "#load data\n",
    "df_songs = pd.read_csv('songs_with_predictions_small.csv')\n",
    "df_songs_sorted = df_songs.sort_values(by='average_prediction', ascending=False)\n",
    "\n",
    "target_user = \"user_5c0cba28e67a99c235ef2ba9877fef44\"\n",
    "ratings = df_songs[target_user].tolist()\n",
    "track_names = df_songs['track_name'].tolist()\n",
    "artists = df_songs['artist_name'].tolist()\n",
    "unique_artists = list(set(artists))\n",
    "num_tracks = len(track_names)\n",
    "\n",
    "#create model\n",
    "m = Model(\"Spotify_Base_Model\")\n",
    "\n",
    "#d.v. for each track & artist\n",
    "x = m.addVars(num_tracks, vtype=GRB.BINARY, name=\"x\")\n",
    "a = m.addVars(unique_artists, vtype=GRB.BINARY, name=\"artist\")\n",
    "\n",
    "#constraint for at least 30 songs & link artist variables to selected songs\n",
    "m.addConstr(quicksum(x[i] for i in range(num_tracks)) >= 30, \"min_tracks\")\n",
    "for artist in unique_artists:\n",
    "    song_indices = [i for i in range(num_tracks) if artists[i] == artist]\n",
    "    m.addConstr(quicksum(x[i] for i in song_indices) <= 1, f\"artist_{artist}\")\n",
    "    m.addConstr(a[artist] == quicksum(x[i] for i in song_indices), f\"link_{artist}\")\n",
    "\n",
    "#objective to maximize total predicted rating\n",
    "m.setObjective(quicksum(ratings[i] * x[i] for i in range(num_tracks)), GRB.MAXIMIZE)\n",
    "m.optimize()\n",
    "\n",
    "#extract selected tracks\n",
    "selected_indices = [i for i in range(num_tracks) if x[i].X > 0.5]\n",
    "selected_tracks = df_songs.iloc[selected_indices].copy().sort_values(by=target_user, ascending=False)\n",
    "selected_tracks.head(30)"
   ]
  },
  {
   "cell_type": "code",
   "execution_count": null,
   "id": "6b8cad64",
   "metadata": {},
   "outputs": [],
   "source": [
    "print(\"Total tracks selected:\", len(selected_indices))\n",
    "print(\"Unique artists selected:\", len(set(selected_tracks['artist_name'])))\n",
    "print(\"Total predicted score:\", selected_tracks[target_user].sum())"
   ]
  }
 ],
 "metadata": {
  "kernelspec": {
   "display_name": "base",
   "language": "python",
   "name": "python3"
  },
  "language_info": {
   "codemirror_mode": {
    "name": "ipython",
    "version": 3
   },
   "file_extension": ".py",
   "mimetype": "text/x-python",
   "name": "python",
   "nbconvert_exporter": "python",
   "pygments_lexer": "ipython3",
   "version": "3.12.7"
  }
 },
 "nbformat": 4,
 "nbformat_minor": 5
}
